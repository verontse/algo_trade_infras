{
 "cells": [
  {
   "cell_type": "code",
   "execution_count": 5,
   "metadata": {},
   "outputs": [],
   "source": [
    "import pandas as pd\n",
    "import numpy as np\n",
    "from datetime import datetime\n",
    "from TradingDataFrame import TradingDataFrame\n",
    "from strategy import Strategy\n",
    "import calendar\n",
    "from matplotlib import pyplot as plt\n",
    "import seaborn as sn\n",
    "from binance import Client, ThreadedWebsocketManager, ThreadedDepthCacheManager\n",
    "from scipy.stats import norm\n",
    "import statsmodels.api as sm\n",
    "import yfinance as yf"
   ]
  },
  {
   "cell_type": "code",
   "execution_count": 6,
   "metadata": {},
   "outputs": [],
   "source": [
    "api_key = 'uD7GhqYsUvfhpM3KDSAsqKXsXD3fVtvzdICbDEPPpSMMG4dQIFq532ETpUy98aud'\n",
    "api_secret = 'nWdUsoGfUYXH7TzuNqio0W9O6ADOSezLCIJ9V6dvMS6wYqN2I0prvAeLxNF53yl2'\n",
    "client = Client(api_key, api_secret)\n",
    "today_date = str(datetime.today().day+1) + ' ' + calendar.month_abbr[datetime.today().month] + ' ' + str(datetime.today().year)\n",
    "\n",
    "klines = client.get_historical_klines('BTCUSDT', Client.KLINE_INTERVAL_1DAY, '16 Jan 2017', today_date)\n",
    "klines_cols = [\n",
    "    'Open Time',\n",
    "    'Open',\n",
    "    'High',\n",
    "    'Low',\n",
    "    'Close',\n",
    "    'Volume',\n",
    "    'Close time',\n",
    "    'Quote asset volume',\n",
    "    'Number of trades',\n",
    "    'Taker buy base asset volume',\n",
    "    'Taker buy quote asset volume',\n",
    "    'Ignore']\n",
    "\n",
    "df = pd.DataFrame(klines, columns=klines_cols)\n",
    "df_btc = df[['Open Time', 'Close']]\n",
    "\n",
    "tdf_btc = TradingDataFrame(df_btc, time_col='Open Time', price_cols=['Close'], time_unit='ms')"
   ]
  },
  {
   "cell_type": "code",
   "execution_count": 7,
   "metadata": {},
   "outputs": [
    {
     "data": {
      "text/html": [
       "<div>\n",
       "<style scoped>\n",
       "    .dataframe tbody tr th:only-of-type {\n",
       "        vertical-align: middle;\n",
       "    }\n",
       "\n",
       "    .dataframe tbody tr th {\n",
       "        vertical-align: top;\n",
       "    }\n",
       "\n",
       "    .dataframe thead th {\n",
       "        text-align: right;\n",
       "    }\n",
       "</style>\n",
       "<table border=\"1\" class=\"dataframe\">\n",
       "  <thead>\n",
       "    <tr style=\"text-align: right;\">\n",
       "      <th></th>\n",
       "      <th>Close</th>\n",
       "    </tr>\n",
       "    <tr>\n",
       "      <th>Open Time</th>\n",
       "      <th></th>\n",
       "    </tr>\n",
       "  </thead>\n",
       "  <tbody>\n",
       "    <tr>\n",
       "      <th>2017-08-18</th>\n",
       "      <td>-0.042103</td>\n",
       "    </tr>\n",
       "    <tr>\n",
       "      <th>2017-08-19</th>\n",
       "      <td>0.007663</td>\n",
       "    </tr>\n",
       "    <tr>\n",
       "      <th>2017-08-20</th>\n",
       "      <td>-0.013050</td>\n",
       "    </tr>\n",
       "    <tr>\n",
       "      <th>2017-08-21</th>\n",
       "      <td>-0.017347</td>\n",
       "    </tr>\n",
       "    <tr>\n",
       "      <th>2017-08-22</th>\n",
       "      <td>0.005957</td>\n",
       "    </tr>\n",
       "    <tr>\n",
       "      <th>...</th>\n",
       "      <td>...</td>\n",
       "    </tr>\n",
       "    <tr>\n",
       "      <th>2023-04-14</th>\n",
       "      <td>0.003060</td>\n",
       "    </tr>\n",
       "    <tr>\n",
       "      <th>2023-04-15</th>\n",
       "      <td>-0.005656</td>\n",
       "    </tr>\n",
       "    <tr>\n",
       "      <th>2023-04-16</th>\n",
       "      <td>0.000316</td>\n",
       "    </tr>\n",
       "    <tr>\n",
       "      <th>2023-04-17</th>\n",
       "      <td>-0.029276</td>\n",
       "    </tr>\n",
       "    <tr>\n",
       "      <th>2023-04-18</th>\n",
       "      <td>0.002536</td>\n",
       "    </tr>\n",
       "  </tbody>\n",
       "</table>\n",
       "<p>2070 rows × 1 columns</p>\n",
       "</div>"
      ],
      "text/plain": [
       "               Close\n",
       "Open Time           \n",
       "2017-08-18 -0.042103\n",
       "2017-08-19  0.007663\n",
       "2017-08-20 -0.013050\n",
       "2017-08-21 -0.017347\n",
       "2017-08-22  0.005957\n",
       "...              ...\n",
       "2023-04-14  0.003060\n",
       "2023-04-15 -0.005656\n",
       "2023-04-16  0.000316\n",
       "2023-04-17 -0.029276\n",
       "2023-04-18  0.002536\n",
       "\n",
       "[2070 rows x 1 columns]"
      ]
     },
     "execution_count": 7,
     "metadata": {},
     "output_type": "execute_result"
    }
   ],
   "source": [
    "tdf_btc.log_returns"
   ]
  },
  {
   "cell_type": "code",
   "execution_count": 8,
   "metadata": {},
   "outputs": [
    {
     "name": "stdout",
     "output_type": "stream",
     "text": [
      "- SPY: No data found for this date range, symbol may be delisted\n"
     ]
    },
    {
     "ename": "AttributeError",
     "evalue": "'Index' object has no attribute 'date'",
     "output_type": "error",
     "traceback": [
      "\u001b[1;31m---------------------------------------------------------------------------\u001b[0m",
      "\u001b[1;31mAttributeError\u001b[0m                            Traceback (most recent call last)",
      "\u001b[1;32mc:\\Users\\hoho7\\Documents\\venv_3_9_12\\algo_trade_infras\\btc_corr_with_other_assets.ipynb Cell 4\u001b[0m in \u001b[0;36m4\n\u001b[0;32m      <a href='vscode-notebook-cell:/c%3A/Users/hoho7/Documents/venv_3_9_12/algo_trade_infras/btc_corr_with_other_assets.ipynb#W4sZmlsZQ%3D%3D?line=1'>2</a>\u001b[0m df_spy \u001b[39m=\u001b[39m spy\u001b[39m.\u001b[39mhistory(period\u001b[39m=\u001b[39m\u001b[39m'\u001b[39m\u001b[39m7y\u001b[39m\u001b[39m'\u001b[39m)\n\u001b[0;32m      <a href='vscode-notebook-cell:/c%3A/Users/hoho7/Documents/venv_3_9_12/algo_trade_infras/btc_corr_with_other_assets.ipynb#W4sZmlsZQ%3D%3D?line=2'>3</a>\u001b[0m df_spy \u001b[39m=\u001b[39m df_spy[[\u001b[39m'\u001b[39m\u001b[39mClose\u001b[39m\u001b[39m'\u001b[39m]]\n\u001b[1;32m----> <a href='vscode-notebook-cell:/c%3A/Users/hoho7/Documents/venv_3_9_12/algo_trade_infras/btc_corr_with_other_assets.ipynb#W4sZmlsZQ%3D%3D?line=3'>4</a>\u001b[0m df_spy\u001b[39m.\u001b[39mindex \u001b[39m=\u001b[39m pd\u001b[39m.\u001b[39mto_datetime(df_spy\u001b[39m.\u001b[39mindex\u001b[39m.\u001b[39mdate)\n",
      "\u001b[1;31mAttributeError\u001b[0m: 'Index' object has no attribute 'date'"
     ]
    }
   ],
   "source": [
    "spy = yf.Ticker('SPY')\n",
    "df_spy = spy.history(period='7y')\n",
    "df_spy = df_spy[['Close']]\n",
    "df_spy.index = pd.to_datetime(df_spy.index.date)"
   ]
  },
  {
   "cell_type": "code",
   "execution_count": null,
   "metadata": {},
   "outputs": [
    {
     "data": {
      "text/html": [
       "<div>\n",
       "<style scoped>\n",
       "    .dataframe tbody tr th:only-of-type {\n",
       "        vertical-align: middle;\n",
       "    }\n",
       "\n",
       "    .dataframe tbody tr th {\n",
       "        vertical-align: top;\n",
       "    }\n",
       "\n",
       "    .dataframe thead th {\n",
       "        text-align: right;\n",
       "    }\n",
       "</style>\n",
       "<table border=\"1\" class=\"dataframe\">\n",
       "  <thead>\n",
       "    <tr style=\"text-align: right;\">\n",
       "      <th></th>\n",
       "      <th>Open Time</th>\n",
       "      <th>Close_BTC</th>\n",
       "      <th>Close_SPY</th>\n",
       "    </tr>\n",
       "  </thead>\n",
       "  <tbody>\n",
       "    <tr>\n",
       "      <th>0</th>\n",
       "      <td>2017-08-17</td>\n",
       "      <td>4285.08</td>\n",
       "      <td>220.117325</td>\n",
       "    </tr>\n",
       "    <tr>\n",
       "      <th>1</th>\n",
       "      <td>2017-08-18</td>\n",
       "      <td>4108.37</td>\n",
       "      <td>219.773209</td>\n",
       "    </tr>\n",
       "    <tr>\n",
       "      <th>2</th>\n",
       "      <td>2017-08-19</td>\n",
       "      <td>4139.98</td>\n",
       "      <td>219.830561</td>\n",
       "    </tr>\n",
       "    <tr>\n",
       "      <th>3</th>\n",
       "      <td>2017-08-20</td>\n",
       "      <td>4086.29</td>\n",
       "      <td>219.887914</td>\n",
       "    </tr>\n",
       "    <tr>\n",
       "      <th>4</th>\n",
       "      <td>2017-08-21</td>\n",
       "      <td>4016.00</td>\n",
       "      <td>219.945267</td>\n",
       "    </tr>\n",
       "    <tr>\n",
       "      <th>...</th>\n",
       "      <td>...</td>\n",
       "      <td>...</td>\n",
       "      <td>...</td>\n",
       "    </tr>\n",
       "    <tr>\n",
       "      <th>2066</th>\n",
       "      <td>2023-04-14</td>\n",
       "      <td>30466.93</td>\n",
       "      <td>412.459991</td>\n",
       "    </tr>\n",
       "    <tr>\n",
       "      <th>2067</th>\n",
       "      <td>2023-04-15</td>\n",
       "      <td>30295.09</td>\n",
       "      <td>412.953328</td>\n",
       "    </tr>\n",
       "    <tr>\n",
       "      <th>2068</th>\n",
       "      <td>2023-04-16</td>\n",
       "      <td>30304.65</td>\n",
       "      <td>413.446665</td>\n",
       "    </tr>\n",
       "    <tr>\n",
       "      <th>2069</th>\n",
       "      <td>2023-04-17</td>\n",
       "      <td>29430.27</td>\n",
       "      <td>413.940002</td>\n",
       "    </tr>\n",
       "    <tr>\n",
       "      <th>2070</th>\n",
       "      <td>2023-04-18</td>\n",
       "      <td>29494.69</td>\n",
       "      <td>413.940002</td>\n",
       "    </tr>\n",
       "  </tbody>\n",
       "</table>\n",
       "<p>2071 rows × 3 columns</p>\n",
       "</div>"
      ],
      "text/plain": [
       "      Open Time  Close_BTC   Close_SPY\n",
       "0    2017-08-17    4285.08  220.117325\n",
       "1    2017-08-18    4108.37  219.773209\n",
       "2    2017-08-19    4139.98  219.830561\n",
       "3    2017-08-20    4086.29  219.887914\n",
       "4    2017-08-21    4016.00  219.945267\n",
       "...         ...        ...         ...\n",
       "2066 2023-04-14   30466.93  412.459991\n",
       "2067 2023-04-15   30295.09  412.953328\n",
       "2068 2023-04-16   30304.65  413.446665\n",
       "2069 2023-04-17   29430.27  413.940002\n",
       "2070 2023-04-18   29494.69  413.940002\n",
       "\n",
       "[2071 rows x 3 columns]"
      ]
     },
     "execution_count": 5,
     "metadata": {},
     "output_type": "execute_result"
    }
   ],
   "source": [
    "# Merge prices\n",
    "df_combine = pd.merge(tdf_btc.data, df_spy, left_index=True, right_index=True, how='left', suffixes=['_BTC', '_SPY'])\n",
    "\n",
    "# Interpolate missing dates (Sat, Sun)\n",
    "df_combine = df_combine.interpolate()\n",
    "df_combine = df_combine.reset_index()\n",
    "df_combine"
   ]
  },
  {
   "cell_type": "code",
   "execution_count": null,
   "metadata": {},
   "outputs": [],
   "source": [
    "tdf_all = TradingDataFrame(df_combine, time_col='Open Time', price_cols=['Close_BTC', 'Close_SPY'])"
   ]
  },
  {
   "cell_type": "code",
   "execution_count": null,
   "metadata": {},
   "outputs": [
    {
     "data": {
      "text/plain": [
       "[<matplotlib.lines.Line2D at 0x23d9d641b20>]"
      ]
     },
     "execution_count": 7,
     "metadata": {},
     "output_type": "execute_result"
    },
    {
     "data": {
      "image/png": "[encoded data removed]",
      "text/plain": [
       "<Figure size 640x480 with 1 Axes>"
      ]
     },
     "metadata": {},
     "output_type": "display_data"
    }
   ],
   "source": [
    "tdf_all.fit_pdf(col='Close_BTC', data='log_returns', distribution='t')"
   ]
  },
  {
   "cell_type": "code",
   "execution_count": null,
   "metadata": {},
   "outputs": [
    {
     "data": {
      "image/png": "[encoded data removed]",
      "text/plain": [
       "<Figure size 640x480 with 1 Axes>"
      ]
     },
     "metadata": {},
     "output_type": "display_data"
    }
   ],
   "source": [
    "x = tdf_all.qqplot(col='Close_BTC', data='log_returns')"
   ]
  },
  {
   "cell_type": "code",
   "execution_count": null,
   "metadata": {},
   "outputs": [
    {
     "data": {
      "text/html": [
       "<div>\n",
       "<style scoped>\n",
       "    .dataframe tbody tr th:only-of-type {\n",
       "        vertical-align: middle;\n",
       "    }\n",
       "\n",
       "    .dataframe tbody tr th {\n",
       "        vertical-align: top;\n",
       "    }\n",
       "\n",
       "    .dataframe thead th {\n",
       "        text-align: right;\n",
       "    }\n",
       "</style>\n",
       "<table border=\"1\" class=\"dataframe\">\n",
       "  <thead>\n",
       "    <tr style=\"text-align: right;\">\n",
       "      <th></th>\n",
       "      <th>Close_BTC</th>\n",
       "      <th>Close_SPY</th>\n",
       "    </tr>\n",
       "  </thead>\n",
       "  <tbody>\n",
       "    <tr>\n",
       "      <th>Close_BTC</th>\n",
       "      <td>1.000000</td>\n",
       "      <td>0.260456</td>\n",
       "    </tr>\n",
       "    <tr>\n",
       "      <th>Close_SPY</th>\n",
       "      <td>0.260456</td>\n",
       "      <td>1.000000</td>\n",
       "    </tr>\n",
       "  </tbody>\n",
       "</table>\n",
       "</div>"
      ],
      "text/plain": [
       "           Close_BTC  Close_SPY\n",
       "Close_BTC   1.000000   0.260456\n",
       "Close_SPY   0.260456   1.000000"
      ]
     },
     "execution_count": 9,
     "metadata": {},
     "output_type": "execute_result"
    }
   ],
   "source": [
    "tdf_all.log_returns.corr()"
   ]
  }
 ],
 "metadata": {
  "kernelspec": {
   "display_name": "venv_3_9_12",
   "language": "python",
   "name": "python3"
  },
  "language_info": {
   "codemirror_mode": {
    "name": "ipython",
    "version": 3
   },
   "file_extension": ".py",
   "mimetype": "text/x-python",
   "name": "python",
   "nbconvert_exporter": "python",
   "pygments_lexer": "ipython3",
   "version": "3.9.12"
  },
  "orig_nbformat": 4,
  "vscode": {
   "interpreter": {
    "hash": "a179cc4b26c00abb7c5040b3828f6ed57a65a27e563716d42ff9b5286259ed60"
   }
  }
 },
 "nbformat": 4,
 "nbformat_minor": 2
}
