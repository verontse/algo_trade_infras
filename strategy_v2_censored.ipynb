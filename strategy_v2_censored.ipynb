{
 "cells": [
  {
   "cell_type": "code",
   "execution_count": 75,
   "metadata": {},
   "outputs": [],
   "source": [
    "import pandas as pd\n",
    "import numpy as np\n",
    "from datetime import datetime\n",
    "from TradingDataFrame import TradingDataFrame\n",
    "from strategy import Strategy\n",
    "import calendar\n",
    "from matplotlib import pyplot as plt\n",
    "import seaborn as sn\n",
    "import pickle"
   ]
  },
  {
   "cell_type": "code",
   "execution_count": 76,
   "metadata": {},
   "outputs": [],
   "source": [
    "# Binance packages\n",
    "\n",
    "from binance import Client, ThreadedWebsocketManager, ThreadedDepthCacheManager\n",
    "from binance.exceptions import BinanceAPIException\n",
    "\n",
    "stuffs = ''\n",
    "api_key = ''\n",
    "api_secret = ''\n",
    "\n",
    "client = Client(api_key, api_secret)\n",
    "prices = pd.DataFrame(client.get_all_tickers())\n",
    "\n",
    "today_date = str(datetime.today().day+1) + ' ' + calendar.month_abbr[datetime.today().month] + ' ' + str(datetime.today().year)\n",
    "\n",
    "# Extract BTCUSDT data\n",
    "\n",
    "klines = client.get_historical_klines('BTCUSDT', Client.KLINE_INTERVAL_1HOUR, '16 Jan 2021', today_date)\n",
    "klines_cols = [\n",
    "    'Open Time',\n",
    "    'Open',\n",
    "    'High',\n",
    "    'Low',\n",
    "    'Close',\n",
    "    'Volume',\n",
    "    'Close time',\n",
    "    'Quote asset volume',\n",
    "    'Number of trades',\n",
    "    'Taker buy base asset volume',\n",
    "    'Taker buy quote asset volume',\n",
    "    'Ignore']\n",
    "\n",
    "# Setup df\n",
    "\n",
    "df = pd.DataFrame(klines, columns=klines_cols)\n",
    "df.drop_duplicates(inplace=True)\n",
    "\n",
    "price_criteria_pair = {\n",
    "    'Open': 'Number of trades',\n",
    "    'Close': 'Number of trades'\n",
    "}\n",
    "\n",
    "tdf = TradingDataFrame(df, time_col='Open Time', price_criteria_pair=price_criteria_pair, source='binance')"
   ]
  },
  {
   "cell_type": "code",
   "execution_count": 77,
   "metadata": {},
   "outputs": [
    {
     "data": {
      "text/html": [
       "<div>\n",
       "<style scoped>\n",
       "    .dataframe tbody tr th:only-of-type {\n",
       "        vertical-align: middle;\n",
       "    }\n",
       "\n",
       "    .dataframe tbody tr th {\n",
       "        vertical-align: top;\n",
       "    }\n",
       "\n",
       "    .dataframe thead th {\n",
       "        text-align: right;\n",
       "    }\n",
       "</style>\n",
       "<table border=\"1\" class=\"dataframe\">\n",
       "  <thead>\n",
       "    <tr style=\"text-align: right;\">\n",
       "      <th></th>\n",
       "      <th>Open</th>\n",
       "      <th>Close</th>\n",
       "      <th>Number of trades</th>\n",
       "      <th>Open_pct_change</th>\n",
       "      <th>Close_pct_change</th>\n",
       "    </tr>\n",
       "    <tr>\n",
       "      <th>Open Time</th>\n",
       "      <th></th>\n",
       "      <th></th>\n",
       "      <th></th>\n",
       "      <th></th>\n",
       "      <th></th>\n",
       "    </tr>\n",
       "  </thead>\n",
       "  <tbody>\n",
       "    <tr>\n",
       "      <th>2021-01-16 01:00:00</th>\n",
       "      <td>37159.51</td>\n",
       "      <td>37005.86</td>\n",
       "      <td>86508</td>\n",
       "      <td>0.011489</td>\n",
       "      <td>-0.004135</td>\n",
       "    </tr>\n",
       "    <tr>\n",
       "      <th>2021-01-16 02:00:00</th>\n",
       "      <td>37003.76</td>\n",
       "      <td>36224.51</td>\n",
       "      <td>91436</td>\n",
       "      <td>-0.004191</td>\n",
       "      <td>-0.021114</td>\n",
       "    </tr>\n",
       "    <tr>\n",
       "      <th>2021-01-16 03:00:00</th>\n",
       "      <td>36224.51</td>\n",
       "      <td>36532.92</td>\n",
       "      <td>72075</td>\n",
       "      <td>-0.021059</td>\n",
       "      <td>0.008514</td>\n",
       "    </tr>\n",
       "    <tr>\n",
       "      <th>2021-01-16 04:00:00</th>\n",
       "      <td>36532.92</td>\n",
       "      <td>36574.54</td>\n",
       "      <td>51540</td>\n",
       "      <td>0.008514</td>\n",
       "      <td>0.001139</td>\n",
       "    </tr>\n",
       "    <tr>\n",
       "      <th>2021-01-16 05:00:00</th>\n",
       "      <td>36575.37</td>\n",
       "      <td>35854.37</td>\n",
       "      <td>81056</td>\n",
       "      <td>0.001162</td>\n",
       "      <td>-0.019690</td>\n",
       "    </tr>\n",
       "    <tr>\n",
       "      <th>...</th>\n",
       "      <td>...</td>\n",
       "      <td>...</td>\n",
       "      <td>...</td>\n",
       "      <td>...</td>\n",
       "      <td>...</td>\n",
       "    </tr>\n",
       "    <tr>\n",
       "      <th>2023-02-22 12:00:00</th>\n",
       "      <td>24160.87</td>\n",
       "      <td>24129.68</td>\n",
       "      <td>403879</td>\n",
       "      <td>-0.000889</td>\n",
       "      <td>-0.001291</td>\n",
       "    </tr>\n",
       "    <tr>\n",
       "      <th>2023-02-22 13:00:00</th>\n",
       "      <td>24130.67</td>\n",
       "      <td>24109.71</td>\n",
       "      <td>482983</td>\n",
       "      <td>-0.001250</td>\n",
       "      <td>-0.000828</td>\n",
       "    </tr>\n",
       "    <tr>\n",
       "      <th>2023-02-22 14:00:00</th>\n",
       "      <td>24110.80</td>\n",
       "      <td>23939.75</td>\n",
       "      <td>646572</td>\n",
       "      <td>-0.000823</td>\n",
       "      <td>-0.007049</td>\n",
       "    </tr>\n",
       "    <tr>\n",
       "      <th>2023-02-22 15:00:00</th>\n",
       "      <td>23939.75</td>\n",
       "      <td>23713.61</td>\n",
       "      <td>864212</td>\n",
       "      <td>-0.007094</td>\n",
       "      <td>-0.009446</td>\n",
       "    </tr>\n",
       "    <tr>\n",
       "      <th>2023-02-22 16:00:00</th>\n",
       "      <td>23714.94</td>\n",
       "      <td>23744.43</td>\n",
       "      <td>101160</td>\n",
       "      <td>-0.009391</td>\n",
       "      <td>0.001300</td>\n",
       "    </tr>\n",
       "  </tbody>\n",
       "</table>\n",
       "<p>18411 rows × 5 columns</p>\n",
       "</div>"
      ],
      "text/plain": [
       "                         Open     Close  Number of trades  Open_pct_change  \\\n",
       "Open Time                                                                    \n",
       "2021-01-16 01:00:00  37159.51  37005.86             86508         0.011489   \n",
       "2021-01-16 02:00:00  37003.76  36224.51             91436        -0.004191   \n",
       "2021-01-16 03:00:00  36224.51  36532.92             72075        -0.021059   \n",
       "2021-01-16 04:00:00  36532.92  36574.54             51540         0.008514   \n",
       "2021-01-16 05:00:00  36575.37  35854.37             81056         0.001162   \n",
       "...                       ...       ...               ...              ...   \n",
       "2023-02-22 12:00:00  24160.87  24129.68            403879        -0.000889   \n",
       "2023-02-22 13:00:00  24130.67  24109.71            482983        -0.001250   \n",
       "2023-02-22 14:00:00  24110.80  23939.75            646572        -0.000823   \n",
       "2023-02-22 15:00:00  23939.75  23713.61            864212        -0.007094   \n",
       "2023-02-22 16:00:00  23714.94  23744.43            101160        -0.009391   \n",
       "\n",
       "                     Close_pct_change  \n",
       "Open Time                              \n",
       "2021-01-16 01:00:00         -0.004135  \n",
       "2021-01-16 02:00:00         -0.021114  \n",
       "2021-01-16 03:00:00          0.008514  \n",
       "2021-01-16 04:00:00          0.001139  \n",
       "2021-01-16 05:00:00         -0.019690  \n",
       "...                               ...  \n",
       "2023-02-22 12:00:00         -0.001291  \n",
       "2023-02-22 13:00:00         -0.000828  \n",
       "2023-02-22 14:00:00         -0.007049  \n",
       "2023-02-22 15:00:00         -0.009446  \n",
       "2023-02-22 16:00:00          0.001300  \n",
       "\n",
       "[18411 rows x 5 columns]"
      ]
     },
     "execution_count": 77,
     "metadata": {},
     "output_type": "execute_result"
    }
   ],
   "source": [
    "tdf.data"
   ]
  },
  {
   "cell_type": "code",
   "execution_count": 78,
   "metadata": {},
   "outputs": [
    {
     "name": "stdout",
     "output_type": "stream",
     "text": [
      "Strategy applied!\n",
      "# of trades: 210\n",
      "Sharpe ratio: 0.38\n",
      "Max Drawdown: 1.2602632987855804\n"
     ]
    },
    {
     "data": {
      "image/png": "[encoded data removed]",
      "text/plain": [
       "<Figure size 640x480 with 1 Axes>"
      ]
     },
     "metadata": {},
     "output_type": "display_data"
    }
   ],
   "source": [
    "nlp = Strategy('testing')\n",
    "nlp.set_strategy(\n",
    "    long_entry=['>',400000],\n",
    "    long_exit=['<',300000],\n",
    "    short_entry=['<',100000],\n",
    "    short_exit=['>',200000]\n",
    ")\n",
    "nlp.apply_strategy(tdf)\n",
    "nlp.backtest(tdf)"
   ]
  },
  {
   "cell_type": "code",
   "execution_count": 79,
   "metadata": {},
   "outputs": [
    {
     "name": "stdout",
     "output_type": "stream",
     "text": [
      "Saved as \"testing\"!\n"
     ]
    }
   ],
   "source": [
    "nlp.save()"
   ]
  }
 ],
 "metadata": {
  "kernelspec": {
   "display_name": "venv",
   "language": "python",
   "name": "python3"
  },
  "language_info": {
   "codemirror_mode": {
    "name": "ipython",
    "version": 3
   },
   "file_extension": ".py",
   "mimetype": "text/x-python",
   "name": "python",
   "nbconvert_exporter": "python",
   "pygments_lexer": "ipython3",
   "version": "3.9.6"
  },
  "orig_nbformat": 4,
  "vscode": {
   "interpreter": {
    "hash": "3387f2516f66e85e85136cc0af7ef20c564fe31b8fd20a814da906abec761da1"
   }
  }
 },
 "nbformat": 4,
 "nbformat_minor": 2
}
